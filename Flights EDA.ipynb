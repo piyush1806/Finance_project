{
 "cells": [
  {
   "cell_type": "markdown",
   "metadata": {},
   "source": [
    "# Flight NYC EDA (departure and arrival) "
   ]
  },
  {
   "cell_type": "code",
   "execution_count": 1,
   "metadata": {},
   "outputs": [],
   "source": [
    "import numpy as np\n",
    "import pandas as pd\n",
    "import seaborn as sns\n",
    "from matplotlib import pyplot as plt\n",
    "from collections import Counter\n",
    "%matplotlib inline"
   ]
  },
  {
   "cell_type": "code",
   "execution_count": 3,
   "metadata": {},
   "outputs": [],
   "source": [
    "flight_data=pd.read_csv('flight_data.csv')"
   ]
  },
  {
   "cell_type": "code",
   "execution_count": 9,
   "metadata": {},
   "outputs": [
    {
     "data": {
      "text/html": [
       "<div>\n",
       "<style scoped>\n",
       "    .dataframe tbody tr th:only-of-type {\n",
       "        vertical-align: middle;\n",
       "    }\n",
       "\n",
       "    .dataframe tbody tr th {\n",
       "        vertical-align: top;\n",
       "    }\n",
       "\n",
       "    .dataframe thead th {\n",
       "        text-align: right;\n",
       "    }\n",
       "</style>\n",
       "<table border=\"1\" class=\"dataframe\">\n",
       "  <thead>\n",
       "    <tr style=\"text-align: right;\">\n",
       "      <th></th>\n",
       "      <th>year</th>\n",
       "      <th>month</th>\n",
       "      <th>day</th>\n",
       "      <th>dep_time</th>\n",
       "      <th>sched_dep_time</th>\n",
       "      <th>dep_delay</th>\n",
       "      <th>arr_time</th>\n",
       "      <th>sched_arr_time</th>\n",
       "      <th>arr_delay</th>\n",
       "      <th>carrier</th>\n",
       "      <th>flight</th>\n",
       "      <th>tailnum</th>\n",
       "      <th>origin</th>\n",
       "      <th>dest</th>\n",
       "      <th>air_time</th>\n",
       "      <th>distance</th>\n",
       "      <th>hour</th>\n",
       "      <th>minute</th>\n",
       "      <th>time_hour</th>\n",
       "    </tr>\n",
       "  </thead>\n",
       "  <tbody>\n",
       "    <tr>\n",
       "      <th>0</th>\n",
       "      <td>2013</td>\n",
       "      <td>1</td>\n",
       "      <td>1</td>\n",
       "      <td>517.0</td>\n",
       "      <td>515</td>\n",
       "      <td>2.0</td>\n",
       "      <td>830.0</td>\n",
       "      <td>819</td>\n",
       "      <td>11.0</td>\n",
       "      <td>UA</td>\n",
       "      <td>1545</td>\n",
       "      <td>N14228</td>\n",
       "      <td>EWR</td>\n",
       "      <td>IAH</td>\n",
       "      <td>227.0</td>\n",
       "      <td>1400</td>\n",
       "      <td>5</td>\n",
       "      <td>15</td>\n",
       "      <td>01-01-2013 05:00</td>\n",
       "    </tr>\n",
       "    <tr>\n",
       "      <th>1</th>\n",
       "      <td>2013</td>\n",
       "      <td>1</td>\n",
       "      <td>1</td>\n",
       "      <td>533.0</td>\n",
       "      <td>529</td>\n",
       "      <td>4.0</td>\n",
       "      <td>850.0</td>\n",
       "      <td>830</td>\n",
       "      <td>20.0</td>\n",
       "      <td>UA</td>\n",
       "      <td>1714</td>\n",
       "      <td>N24211</td>\n",
       "      <td>LGA</td>\n",
       "      <td>IAH</td>\n",
       "      <td>227.0</td>\n",
       "      <td>1416</td>\n",
       "      <td>5</td>\n",
       "      <td>29</td>\n",
       "      <td>01-01-2013 05:00</td>\n",
       "    </tr>\n",
       "    <tr>\n",
       "      <th>2</th>\n",
       "      <td>2013</td>\n",
       "      <td>1</td>\n",
       "      <td>1</td>\n",
       "      <td>542.0</td>\n",
       "      <td>540</td>\n",
       "      <td>2.0</td>\n",
       "      <td>923.0</td>\n",
       "      <td>850</td>\n",
       "      <td>33.0</td>\n",
       "      <td>AA</td>\n",
       "      <td>1141</td>\n",
       "      <td>N619AA</td>\n",
       "      <td>JFK</td>\n",
       "      <td>MIA</td>\n",
       "      <td>160.0</td>\n",
       "      <td>1089</td>\n",
       "      <td>5</td>\n",
       "      <td>40</td>\n",
       "      <td>01-01-2013 05:00</td>\n",
       "    </tr>\n",
       "    <tr>\n",
       "      <th>3</th>\n",
       "      <td>2013</td>\n",
       "      <td>1</td>\n",
       "      <td>1</td>\n",
       "      <td>544.0</td>\n",
       "      <td>545</td>\n",
       "      <td>-1.0</td>\n",
       "      <td>1004.0</td>\n",
       "      <td>1022</td>\n",
       "      <td>-18.0</td>\n",
       "      <td>B6</td>\n",
       "      <td>725</td>\n",
       "      <td>N804JB</td>\n",
       "      <td>JFK</td>\n",
       "      <td>BQN</td>\n",
       "      <td>183.0</td>\n",
       "      <td>1576</td>\n",
       "      <td>5</td>\n",
       "      <td>45</td>\n",
       "      <td>01-01-2013 05:00</td>\n",
       "    </tr>\n",
       "    <tr>\n",
       "      <th>4</th>\n",
       "      <td>2013</td>\n",
       "      <td>1</td>\n",
       "      <td>1</td>\n",
       "      <td>554.0</td>\n",
       "      <td>600</td>\n",
       "      <td>-6.0</td>\n",
       "      <td>812.0</td>\n",
       "      <td>837</td>\n",
       "      <td>-25.0</td>\n",
       "      <td>DL</td>\n",
       "      <td>461</td>\n",
       "      <td>N668DN</td>\n",
       "      <td>LGA</td>\n",
       "      <td>ATL</td>\n",
       "      <td>116.0</td>\n",
       "      <td>762</td>\n",
       "      <td>6</td>\n",
       "      <td>0</td>\n",
       "      <td>01-01-2013 06:00</td>\n",
       "    </tr>\n",
       "  </tbody>\n",
       "</table>\n",
       "</div>"
      ],
      "text/plain": [
       "   year  month  day  dep_time  sched_dep_time  dep_delay  arr_time  \\\n",
       "0  2013      1    1     517.0             515        2.0     830.0   \n",
       "1  2013      1    1     533.0             529        4.0     850.0   \n",
       "2  2013      1    1     542.0             540        2.0     923.0   \n",
       "3  2013      1    1     544.0             545       -1.0    1004.0   \n",
       "4  2013      1    1     554.0             600       -6.0     812.0   \n",
       "\n",
       "   sched_arr_time  arr_delay carrier  flight tailnum origin dest  air_time  \\\n",
       "0             819       11.0      UA    1545  N14228    EWR  IAH     227.0   \n",
       "1             830       20.0      UA    1714  N24211    LGA  IAH     227.0   \n",
       "2             850       33.0      AA    1141  N619AA    JFK  MIA     160.0   \n",
       "3            1022      -18.0      B6     725  N804JB    JFK  BQN     183.0   \n",
       "4             837      -25.0      DL     461  N668DN    LGA  ATL     116.0   \n",
       "\n",
       "   distance  hour  minute         time_hour  \n",
       "0      1400     5      15  01-01-2013 05:00  \n",
       "1      1416     5      29  01-01-2013 05:00  \n",
       "2      1089     5      40  01-01-2013 05:00  \n",
       "3      1576     5      45  01-01-2013 05:00  \n",
       "4       762     6       0  01-01-2013 06:00  "
      ]
     },
     "execution_count": 9,
     "metadata": {},
     "output_type": "execute_result"
    }
   ],
   "source": [
    "flight_data.head(5)"
   ]
  },
  {
   "cell_type": "code",
   "execution_count": 10,
   "metadata": {},
   "outputs": [
    {
     "data": {
      "text/html": [
       "<div>\n",
       "<style scoped>\n",
       "    .dataframe tbody tr th:only-of-type {\n",
       "        vertical-align: middle;\n",
       "    }\n",
       "\n",
       "    .dataframe tbody tr th {\n",
       "        vertical-align: top;\n",
       "    }\n",
       "\n",
       "    .dataframe thead th {\n",
       "        text-align: right;\n",
       "    }\n",
       "</style>\n",
       "<table border=\"1\" class=\"dataframe\">\n",
       "  <thead>\n",
       "    <tr style=\"text-align: right;\">\n",
       "      <th></th>\n",
       "      <th>count</th>\n",
       "      <th>mean</th>\n",
       "      <th>std</th>\n",
       "      <th>min</th>\n",
       "      <th>25%</th>\n",
       "      <th>50%</th>\n",
       "      <th>75%</th>\n",
       "      <th>max</th>\n",
       "    </tr>\n",
       "  </thead>\n",
       "  <tbody>\n",
       "    <tr>\n",
       "      <th>year</th>\n",
       "      <td>336776.0</td>\n",
       "      <td>2013.000000</td>\n",
       "      <td>0.000000</td>\n",
       "      <td>2013.0</td>\n",
       "      <td>2013.0</td>\n",
       "      <td>2013.0</td>\n",
       "      <td>2013.0</td>\n",
       "      <td>2013.0</td>\n",
       "    </tr>\n",
       "    <tr>\n",
       "      <th>month</th>\n",
       "      <td>336776.0</td>\n",
       "      <td>6.548510</td>\n",
       "      <td>3.414457</td>\n",
       "      <td>1.0</td>\n",
       "      <td>4.0</td>\n",
       "      <td>7.0</td>\n",
       "      <td>10.0</td>\n",
       "      <td>12.0</td>\n",
       "    </tr>\n",
       "    <tr>\n",
       "      <th>day</th>\n",
       "      <td>336776.0</td>\n",
       "      <td>15.710787</td>\n",
       "      <td>8.768607</td>\n",
       "      <td>1.0</td>\n",
       "      <td>8.0</td>\n",
       "      <td>16.0</td>\n",
       "      <td>23.0</td>\n",
       "      <td>31.0</td>\n",
       "    </tr>\n",
       "    <tr>\n",
       "      <th>dep_time</th>\n",
       "      <td>328521.0</td>\n",
       "      <td>1349.109947</td>\n",
       "      <td>488.281791</td>\n",
       "      <td>1.0</td>\n",
       "      <td>907.0</td>\n",
       "      <td>1401.0</td>\n",
       "      <td>1744.0</td>\n",
       "      <td>2400.0</td>\n",
       "    </tr>\n",
       "    <tr>\n",
       "      <th>sched_dep_time</th>\n",
       "      <td>336776.0</td>\n",
       "      <td>1344.254840</td>\n",
       "      <td>467.335756</td>\n",
       "      <td>106.0</td>\n",
       "      <td>906.0</td>\n",
       "      <td>1359.0</td>\n",
       "      <td>1729.0</td>\n",
       "      <td>2359.0</td>\n",
       "    </tr>\n",
       "    <tr>\n",
       "      <th>dep_delay</th>\n",
       "      <td>328521.0</td>\n",
       "      <td>12.639070</td>\n",
       "      <td>40.210061</td>\n",
       "      <td>-43.0</td>\n",
       "      <td>-5.0</td>\n",
       "      <td>-2.0</td>\n",
       "      <td>11.0</td>\n",
       "      <td>1301.0</td>\n",
       "    </tr>\n",
       "    <tr>\n",
       "      <th>arr_time</th>\n",
       "      <td>328063.0</td>\n",
       "      <td>1502.054999</td>\n",
       "      <td>533.264132</td>\n",
       "      <td>1.0</td>\n",
       "      <td>1104.0</td>\n",
       "      <td>1535.0</td>\n",
       "      <td>1940.0</td>\n",
       "      <td>2400.0</td>\n",
       "    </tr>\n",
       "    <tr>\n",
       "      <th>sched_arr_time</th>\n",
       "      <td>336776.0</td>\n",
       "      <td>1536.380220</td>\n",
       "      <td>497.457142</td>\n",
       "      <td>1.0</td>\n",
       "      <td>1124.0</td>\n",
       "      <td>1556.0</td>\n",
       "      <td>1945.0</td>\n",
       "      <td>2359.0</td>\n",
       "    </tr>\n",
       "    <tr>\n",
       "      <th>arr_delay</th>\n",
       "      <td>327346.0</td>\n",
       "      <td>6.895377</td>\n",
       "      <td>44.633292</td>\n",
       "      <td>-86.0</td>\n",
       "      <td>-17.0</td>\n",
       "      <td>-5.0</td>\n",
       "      <td>14.0</td>\n",
       "      <td>1272.0</td>\n",
       "    </tr>\n",
       "    <tr>\n",
       "      <th>flight</th>\n",
       "      <td>336776.0</td>\n",
       "      <td>1971.923620</td>\n",
       "      <td>1632.471938</td>\n",
       "      <td>1.0</td>\n",
       "      <td>553.0</td>\n",
       "      <td>1496.0</td>\n",
       "      <td>3465.0</td>\n",
       "      <td>8500.0</td>\n",
       "    </tr>\n",
       "    <tr>\n",
       "      <th>air_time</th>\n",
       "      <td>327346.0</td>\n",
       "      <td>150.686460</td>\n",
       "      <td>93.688305</td>\n",
       "      <td>20.0</td>\n",
       "      <td>82.0</td>\n",
       "      <td>129.0</td>\n",
       "      <td>192.0</td>\n",
       "      <td>695.0</td>\n",
       "    </tr>\n",
       "    <tr>\n",
       "      <th>distance</th>\n",
       "      <td>336776.0</td>\n",
       "      <td>1039.912604</td>\n",
       "      <td>733.233033</td>\n",
       "      <td>17.0</td>\n",
       "      <td>502.0</td>\n",
       "      <td>872.0</td>\n",
       "      <td>1389.0</td>\n",
       "      <td>4983.0</td>\n",
       "    </tr>\n",
       "    <tr>\n",
       "      <th>hour</th>\n",
       "      <td>336776.0</td>\n",
       "      <td>13.180247</td>\n",
       "      <td>4.661316</td>\n",
       "      <td>1.0</td>\n",
       "      <td>9.0</td>\n",
       "      <td>13.0</td>\n",
       "      <td>17.0</td>\n",
       "      <td>23.0</td>\n",
       "    </tr>\n",
       "    <tr>\n",
       "      <th>minute</th>\n",
       "      <td>336776.0</td>\n",
       "      <td>26.230100</td>\n",
       "      <td>19.300846</td>\n",
       "      <td>0.0</td>\n",
       "      <td>8.0</td>\n",
       "      <td>29.0</td>\n",
       "      <td>44.0</td>\n",
       "      <td>59.0</td>\n",
       "    </tr>\n",
       "  </tbody>\n",
       "</table>\n",
       "</div>"
      ],
      "text/plain": [
       "                   count         mean          std     min     25%     50%  \\\n",
       "year            336776.0  2013.000000     0.000000  2013.0  2013.0  2013.0   \n",
       "month           336776.0     6.548510     3.414457     1.0     4.0     7.0   \n",
       "day             336776.0    15.710787     8.768607     1.0     8.0    16.0   \n",
       "dep_time        328521.0  1349.109947   488.281791     1.0   907.0  1401.0   \n",
       "sched_dep_time  336776.0  1344.254840   467.335756   106.0   906.0  1359.0   \n",
       "dep_delay       328521.0    12.639070    40.210061   -43.0    -5.0    -2.0   \n",
       "arr_time        328063.0  1502.054999   533.264132     1.0  1104.0  1535.0   \n",
       "sched_arr_time  336776.0  1536.380220   497.457142     1.0  1124.0  1556.0   \n",
       "arr_delay       327346.0     6.895377    44.633292   -86.0   -17.0    -5.0   \n",
       "flight          336776.0  1971.923620  1632.471938     1.0   553.0  1496.0   \n",
       "air_time        327346.0   150.686460    93.688305    20.0    82.0   129.0   \n",
       "distance        336776.0  1039.912604   733.233033    17.0   502.0   872.0   \n",
       "hour            336776.0    13.180247     4.661316     1.0     9.0    13.0   \n",
       "minute          336776.0    26.230100    19.300846     0.0     8.0    29.0   \n",
       "\n",
       "                   75%     max  \n",
       "year            2013.0  2013.0  \n",
       "month             10.0    12.0  \n",
       "day               23.0    31.0  \n",
       "dep_time        1744.0  2400.0  \n",
       "sched_dep_time  1729.0  2359.0  \n",
       "dep_delay         11.0  1301.0  \n",
       "arr_time        1940.0  2400.0  \n",
       "sched_arr_time  1945.0  2359.0  \n",
       "arr_delay         14.0  1272.0  \n",
       "flight          3465.0  8500.0  \n",
       "air_time         192.0   695.0  \n",
       "distance        1389.0  4983.0  \n",
       "hour              17.0    23.0  \n",
       "minute            44.0    59.0  "
      ]
     },
     "execution_count": 10,
     "metadata": {},
     "output_type": "execute_result"
    }
   ],
   "source": [
    "flight_data.describe().T"
   ]
  },
  {
   "cell_type": "code",
   "execution_count": 7,
   "metadata": {},
   "outputs": [
    {
     "name": "stdout",
     "output_type": "stream",
     "text": [
      "<class 'pandas.core.frame.DataFrame'>\n",
      "RangeIndex: 336776 entries, 0 to 336775\n",
      "Data columns (total 19 columns):\n",
      "year              336776 non-null int64\n",
      "month             336776 non-null int64\n",
      "day               336776 non-null int64\n",
      "dep_time          328521 non-null float64\n",
      "sched_dep_time    336776 non-null int64\n",
      "dep_delay         328521 non-null float64\n",
      "arr_time          328063 non-null float64\n",
      "sched_arr_time    336776 non-null int64\n",
      "arr_delay         327346 non-null float64\n",
      "carrier           336776 non-null object\n",
      "flight            336776 non-null int64\n",
      "tailnum           334264 non-null object\n",
      "origin            336776 non-null object\n",
      "dest              336776 non-null object\n",
      "air_time          327346 non-null float64\n",
      "distance          336776 non-null int64\n",
      "hour              336776 non-null int64\n",
      "minute            336776 non-null int64\n",
      "time_hour         336776 non-null object\n",
      "dtypes: float64(5), int64(9), object(5)\n",
      "memory usage: 48.8+ MB\n"
     ]
    }
   ],
   "source": [
    "flight_data.info()"
   ]
  },
  {
   "cell_type": "markdown",
   "metadata": {},
   "source": [
    "# Drop Columns which are not needed\n"
   ]
  },
  {
   "cell_type": "code",
   "execution_count": 12,
   "metadata": {},
   "outputs": [],
   "source": [
    "#Drop redundant columns\n",
    "flight_data.drop(['year'],axis=1,inplace=True)\n",
    "flight_data.drop(['minute'],axis=1,inplace=True)\n",
    "#flight_data.drop(['time_hour'],axis=1,inplace=True)\n"
   ]
  },
  {
   "cell_type": "markdown",
   "metadata": {},
   "source": [
    "# 1. Departure delays analysis"
   ]
  },
  {
   "cell_type": "code",
   "execution_count": 13,
   "metadata": {},
   "outputs": [],
   "source": [
    "df2 = flight_data.loc[flight_data['dep_time'].notnull(),['dep_time','dep_delay','carrier','origin','flight','hour']]"
   ]
  },
  {
   "cell_type": "code",
   "execution_count": 14,
   "metadata": {},
   "outputs": [
    {
     "name": "stdout",
     "output_type": "stream",
     "text": [
      "<class 'pandas.core.frame.DataFrame'>\n",
      "Int64Index: 328521 entries, 0 to 336769\n",
      "Data columns (total 6 columns):\n",
      "dep_time     328521 non-null float64\n",
      "dep_delay    328521 non-null float64\n",
      "carrier      328521 non-null object\n",
      "origin       328521 non-null object\n",
      "flight       328521 non-null int64\n",
      "hour         328521 non-null int64\n",
      "dtypes: float64(2), int64(2), object(2)\n",
      "memory usage: 17.5+ MB\n"
     ]
    }
   ],
   "source": [
    "#check current dataframe status , no NaN in dep_xxx\n",
    "df2.info()"
   ]
  },
  {
   "cell_type": "code",
   "execution_count": 17,
   "metadata": {},
   "outputs": [],
   "source": [
    "#downcast dep_time to intger \n",
    "df2['dep_time'] = df2['dep_time'].astype(int)\n",
    "#downcast dep_delay to intger \n",
    "df2['dep_delay'] = pd.to_numeric(df2['dep_delay'],downcast='integer')\n",
    "#change flight number to string \n",
    "df2['flight'] = df2['flight'].astype(str)"
   ]
  },
  {
   "cell_type": "markdown",
   "metadata": {},
   "source": [
    "# Find Carrier wise average Departure Delay"
   ]
  },
  {
   "cell_type": "code",
   "execution_count": 19,
   "metadata": {},
   "outputs": [],
   "source": [
    "#departure  delay carrier wise \n",
    "b=df2[['dep_delay','carrier']].groupby('carrier').mean()"
   ]
  },
  {
   "cell_type": "code",
   "execution_count": 20,
   "metadata": {},
   "outputs": [
    {
     "name": "stdout",
     "output_type": "stream",
     "text": [
      "Carriers:   Index(['9E', 'AA', 'AS', 'B6', 'DL', 'EV', 'F9', 'FL', 'HA', 'MQ', 'OO', 'UA',\n",
      "       'US', 'VX', 'WN', 'YV'],\n",
      "      dtype='object', name='carrier')\n",
      "Max Average Delay dep_delay    20.215543\n",
      "dtype: float64\n",
      "Carrier with Max Average Delay dep_delay    F9\n",
      "dtype: object\n",
      "Min Average Delay dep_delay    3.782418\n",
      "dtype: float64\n",
      "Carrier with Min Average Delay dep_delay    US\n",
      "dtype: object\n"
     ]
    },
    {
     "data": {
      "text/plain": [
       "Text(0.5,0.98,'Carrier wise (Average) Departure Delay')"
      ]
     },
     "execution_count": 20,
     "metadata": {},
     "output_type": "execute_result"
    },
    {
     "data": {
      "image/png": "[encoded data removed]",
      "text/plain": [
       "<matplotlib.figure.Figure at 0x20e800c66a0>"
      ]
     },
     "metadata": {},
     "output_type": "display_data"
    }
   ],
   "source": [
    "print(\"Carriers:  \", b.index)\n",
    "print(\"Max Average Delay\", b.max())\n",
    "print(\"Carrier with Max Average Delay\", b.idxmax())\n",
    "print(\"Min Average Delay\", b.min())\n",
    "print(\"Carrier with Min Average Delay\", b.idxmin())\n",
    "\n",
    "plt.plot(b, linewidth=2.0)\n",
    "plt.xlabel('Carrier')\n",
    "plt.ylabel('Average Delay (in Mins)')\n",
    "plt.suptitle('Carrier wise (Average) Departure Delay',fontsize=16)\n"
   ]
  },
  {
   "cell_type": "code",
   "execution_count": 22,
   "metadata": {},
   "outputs": [
    {
     "data": {
      "text/html": [
       "<div>\n",
       "<style scoped>\n",
       "    .dataframe tbody tr th:only-of-type {\n",
       "        vertical-align: middle;\n",
       "    }\n",
       "\n",
       "    .dataframe tbody tr th {\n",
       "        vertical-align: top;\n",
       "    }\n",
       "\n",
       "    .dataframe thead th {\n",
       "        text-align: right;\n",
       "    }\n",
       "</style>\n",
       "<table border=\"1\" class=\"dataframe\">\n",
       "  <thead>\n",
       "    <tr style=\"text-align: right;\">\n",
       "      <th></th>\n",
       "      <th>dep_delay</th>\n",
       "    </tr>\n",
       "    <tr>\n",
       "      <th>carrier</th>\n",
       "      <th></th>\n",
       "    </tr>\n",
       "  </thead>\n",
       "  <tbody>\n",
       "    <tr>\n",
       "      <th>9E</th>\n",
       "      <td>16.725769</td>\n",
       "    </tr>\n",
       "    <tr>\n",
       "      <th>AA</th>\n",
       "      <td>8.586016</td>\n",
       "    </tr>\n",
       "    <tr>\n",
       "      <th>AS</th>\n",
       "      <td>5.804775</td>\n",
       "    </tr>\n",
       "    <tr>\n",
       "      <th>B6</th>\n",
       "      <td>13.022522</td>\n",
       "    </tr>\n",
       "    <tr>\n",
       "      <th>DL</th>\n",
       "      <td>9.264505</td>\n",
       "    </tr>\n",
       "    <tr>\n",
       "      <th>EV</th>\n",
       "      <td>19.955390</td>\n",
       "    </tr>\n",
       "    <tr>\n",
       "      <th>F9</th>\n",
       "      <td>20.215543</td>\n",
       "    </tr>\n",
       "    <tr>\n",
       "      <th>FL</th>\n",
       "      <td>18.726075</td>\n",
       "    </tr>\n",
       "    <tr>\n",
       "      <th>HA</th>\n",
       "      <td>4.900585</td>\n",
       "    </tr>\n",
       "    <tr>\n",
       "      <th>MQ</th>\n",
       "      <td>10.552041</td>\n",
       "    </tr>\n",
       "    <tr>\n",
       "      <th>OO</th>\n",
       "      <td>12.586207</td>\n",
       "    </tr>\n",
       "    <tr>\n",
       "      <th>UA</th>\n",
       "      <td>12.106073</td>\n",
       "    </tr>\n",
       "    <tr>\n",
       "      <th>US</th>\n",
       "      <td>3.782418</td>\n",
       "    </tr>\n",
       "    <tr>\n",
       "      <th>VX</th>\n",
       "      <td>12.869421</td>\n",
       "    </tr>\n",
       "    <tr>\n",
       "      <th>WN</th>\n",
       "      <td>17.711744</td>\n",
       "    </tr>\n",
       "    <tr>\n",
       "      <th>YV</th>\n",
       "      <td>18.996330</td>\n",
       "    </tr>\n",
       "  </tbody>\n",
       "</table>\n",
       "</div>"
      ],
      "text/plain": [
       "         dep_delay\n",
       "carrier           \n",
       "9E       16.725769\n",
       "AA        8.586016\n",
       "AS        5.804775\n",
       "B6       13.022522\n",
       "DL        9.264505\n",
       "EV       19.955390\n",
       "F9       20.215543\n",
       "FL       18.726075\n",
       "HA        4.900585\n",
       "MQ       10.552041\n",
       "OO       12.586207\n",
       "UA       12.106073\n",
       "US        3.782418\n",
       "VX       12.869421\n",
       "WN       17.711744\n",
       "YV       18.996330"
      ]
     },
     "execution_count": 22,
     "metadata": {},
     "output_type": "execute_result"
    }
   ],
   "source": [
    "b\n"
   ]
  },
  {
   "cell_type": "markdown",
   "metadata": {},
   "source": [
    "\n",
    "# Find Airport wise average Departure Delay"
   ]
  },
  {
   "cell_type": "code",
   "execution_count": 23,
   "metadata": {},
   "outputs": [
    {
     "name": "stdout",
     "output_type": "stream",
     "text": [
      "Origin:   Index(['EWR', 'JFK', 'LGA'], dtype='object', name='origin')\n",
      "Max Average Delay dep_delay    15.107954\n",
      "dtype: float64\n",
      "Airport with Max Average Delay dep_delay    EWR\n",
      "dtype: object\n",
      "Min Average Delay dep_delay    10.346876\n",
      "dtype: float64\n",
      "Airport with Min Average Delay dep_delay    LGA\n",
      "dtype: object\n"
     ]
    },
    {
     "data": {
      "image/png": "[encoded data removed]",
      "text/plain": [
       "<matplotlib.figure.Figure at 0x20e800b9828>"
      ]
     },
     "metadata": {},
     "output_type": "display_data"
    }
   ],
   "source": [
    "#departure delay airport wise \n",
    "\n",
    "c=df2[['dep_delay','origin']].groupby('origin').mean()\n",
    "\n",
    "print(\"Origin:  \", c.index)\n",
    "print(\"Max Average Delay\", c.max())\n",
    "print(\"Airport with Max Average Delay\", c.idxmax())\n",
    "print(\"Min Average Delay\", c.min())\n",
    "print(\"Airport with Min Average Delay\", c.idxmin())\n",
    "\n",
    "plt.plot(c, linewidth=2.0,color='green')\n",
    "plt.xlabel('Airport')\n",
    "plt.ylabel('Average Delay (in Mins)')\n",
    "plt.suptitle('Airpot wise Departure Delay(mean)',fontsize=16)\n",
    "\n",
    "plt.show()"
   ]
  },
  {
   "cell_type": "markdown",
   "metadata": {},
   "source": [
    "# Best airports in terms of time departure"
   ]
  },
  {
   "cell_type": "code",
   "execution_count": 24,
   "metadata": {},
   "outputs": [
    {
     "name": "stdout",
     "output_type": "stream",
     "text": [
      "<class 'pandas.core.frame.DataFrame'>\n",
      "Int64Index: 328521 entries, 0 to 336769\n",
      "Data columns (total 2 columns):\n",
      "origin       328521 non-null object\n",
      "dep_delay    328521 non-null int32\n",
      "dtypes: int32(1), object(1)\n",
      "memory usage: 6.3+ MB\n"
     ]
    }
   ],
   "source": [
    "#create dataframe with airports and dep_delay\n",
    "departure_df = flight_data.loc[flight_data['dep_delay'].notnull(),['origin','dep_delay']]\n",
    "departure_df['dep_delay']=departure_df['dep_delay'].astype(int)\n",
    "departure_df.info()\n",
    "\n"
   ]
  },
  {
   "cell_type": "code",
   "execution_count": 25,
   "metadata": {},
   "outputs": [
    {
     "name": "stdout",
     "output_type": "stream",
     "text": [
      "<class 'pandas.core.frame.DataFrame'>\n",
      "Int64Index: 16514 entries, 15 to 336753\n",
      "Data columns (total 2 columns):\n",
      "origin       16514 non-null object\n",
      "dep_delay    16514 non-null int32\n",
      "dtypes: int32(1), object(1)\n",
      "memory usage: 322.5+ KB\n"
     ]
    }
   ],
   "source": [
    "#filter rows where  dep_delay=0 (on time departures)\n",
    "ontime_departure_df = departure_df.loc[departure_df['dep_delay'].eq(0),['origin','dep_delay']]\n",
    "ontime_departure_df.info()"
   ]
  },
  {
   "cell_type": "code",
   "execution_count": 26,
   "metadata": {},
   "outputs": [
    {
     "name": "stdout",
     "output_type": "stream",
     "text": [
      "Departure Airpots:  ['EWR' 'LGA' 'JFK']\n"
     ]
    }
   ],
   "source": [
    "airports = departure_df.origin.unique()\n",
    "print(\"Departure Airpots: \" , airports)"
   ]
  },
  {
   "cell_type": "code",
   "execution_count": 27,
   "metadata": {},
   "outputs": [
    {
     "data": {
      "text/plain": [
       "EWR    117596\n",
       "JFK    109416\n",
       "LGA    101509\n",
       "Name: origin, dtype: int64"
      ]
     },
     "execution_count": 27,
     "metadata": {},
     "output_type": "execute_result"
    }
   ],
   "source": [
    "departure_count = departure_df['origin'].value_counts()\n",
    "departure_count.head()"
   ]
  },
  {
   "cell_type": "code",
   "execution_count": 28,
   "metadata": {},
   "outputs": [
    {
     "data": {
      "text/plain": [
       "JFK    6239\n",
       "EWR    5585\n",
       "LGA    4690\n",
       "Name: origin, dtype: int64"
      ]
     },
     "execution_count": 28,
     "metadata": {},
     "output_type": "execute_result"
    }
   ],
   "source": [
    "ontime_departure_count = ontime_departure_df['origin'].value_counts()\n",
    "ontime_departure_count.head()"
   ]
  },
  {
   "cell_type": "code",
   "execution_count": 29,
   "metadata": {},
   "outputs": [
    {
     "name": "stdout",
     "output_type": "stream",
     "text": [
      "<class 'pandas.core.frame.DataFrame'>\n",
      "Index: 3 entries, JFK to LGA\n",
      "Data columns (total 1 columns):\n",
      "origin    3 non-null int64\n",
      "dtypes: int64(1)\n",
      "memory usage: 48.0+ bytes\n",
      "<class 'pandas.core.frame.DataFrame'>\n",
      "Index: 3 entries, EWR to LGA\n",
      "Data columns (total 1 columns):\n",
      "origin    3 non-null int64\n",
      "dtypes: int64(1)\n",
      "memory usage: 48.0+ bytes\n"
     ]
    }
   ],
   "source": [
    "#Create datafram for further calculation \n",
    "mydf = pd.DataFrame(data=ontime_departure_count)\n",
    "mydf.info()\n",
    "mydf2 = pd.DataFrame(data=departure_count )\n",
    "mydf2.info()"
   ]
  },
  {
   "cell_type": "code",
   "execution_count": 30,
   "metadata": {},
   "outputs": [],
   "source": [
    "#rename columns for clarity\n",
    "mydf = mydf.rename(index=str, columns={\"origin\": \"ontime_flights\"})\n",
    "mydf2 = mydf2.rename(index=str, columns={\"origin\": \"total_flights\"})"
   ]
  },
  {
   "cell_type": "code",
   "execution_count": 31,
   "metadata": {},
   "outputs": [
    {
     "name": "stdout",
     "output_type": "stream",
     "text": [
      "<class 'pandas.core.frame.DataFrame'>\n",
      "Index: 3 entries, EWR to LGA\n",
      "Data columns (total 2 columns):\n",
      "ontime_flights    3 non-null int64\n",
      "total_flights     3 non-null int64\n",
      "dtypes: int64(2)\n",
      "memory usage: 72.0+ bytes\n"
     ]
    }
   ],
   "source": [
    "#join dfs for final result\n",
    "ontime_dep_result = pd.concat([mydf, mydf2], axis=1)\n",
    "ontime_dep_result.info()"
   ]
  },
  {
   "cell_type": "code",
   "execution_count": 32,
   "metadata": {},
   "outputs": [
    {
     "data": {
      "text/html": [
       "<div>\n",
       "<style scoped>\n",
       "    .dataframe tbody tr th:only-of-type {\n",
       "        vertical-align: middle;\n",
       "    }\n",
       "\n",
       "    .dataframe tbody tr th {\n",
       "        vertical-align: top;\n",
       "    }\n",
       "\n",
       "    .dataframe thead th {\n",
       "        text-align: right;\n",
       "    }\n",
       "</style>\n",
       "<table border=\"1\" class=\"dataframe\">\n",
       "  <thead>\n",
       "    <tr style=\"text-align: right;\">\n",
       "      <th></th>\n",
       "      <th>ontime_flights</th>\n",
       "      <th>total_flights</th>\n",
       "    </tr>\n",
       "  </thead>\n",
       "  <tbody>\n",
       "    <tr>\n",
       "      <th>EWR</th>\n",
       "      <td>5585</td>\n",
       "      <td>117596</td>\n",
       "    </tr>\n",
       "    <tr>\n",
       "      <th>JFK</th>\n",
       "      <td>6239</td>\n",
       "      <td>109416</td>\n",
       "    </tr>\n",
       "    <tr>\n",
       "      <th>LGA</th>\n",
       "      <td>4690</td>\n",
       "      <td>101509</td>\n",
       "    </tr>\n",
       "  </tbody>\n",
       "</table>\n",
       "</div>"
      ],
      "text/plain": [
       "     ontime_flights  total_flights\n",
       "EWR            5585         117596\n",
       "JFK            6239         109416\n",
       "LGA            4690         101509"
      ]
     },
     "execution_count": 32,
     "metadata": {},
     "output_type": "execute_result"
    }
   ],
   "source": [
    "\n",
    "ontime_dep_result.head()"
   ]
  },
  {
   "cell_type": "code",
   "execution_count": 33,
   "metadata": {},
   "outputs": [],
   "source": [
    "#calculate % ontime departure\n",
    "ontime_dep_result = ontime_dep_result.assign(ontime_per = \n",
    "                                            lambda x: ((x.ontime_flights*100)/x.total_flights))"
   ]
  },
  {
   "cell_type": "code",
   "execution_count": 34,
   "metadata": {},
   "outputs": [
    {
     "name": "stdout",
     "output_type": "stream",
     "text": [
      "     ontime_flights  total_flights  ontime_per\n",
      "EWR            5585         117596    4.749311\n",
      "JFK            6239         109416    5.702091\n",
      "LGA            4690         101509    4.620280\n",
      "5.702091101849821\n",
      "JFK\n"
     ]
    }
   ],
   "source": [
    "print (ontime_dep_result.head())\n",
    "#Airpot with best ontime %\n",
    "print(ontime_dep_result['ontime_per'].max())\n",
    "print (ontime_dep_result['ontime_per'].idxmax())"
   ]
  },
  {
   "cell_type": "code",
   "execution_count": 39,
   "metadata": {},
   "outputs": [
    {
     "data": {
      "image/png": "[encoded data removed]",
      "text/plain": [
       "<matplotlib.figure.Figure at 0x20e80dd3400>"
      ]
     },
     "metadata": {},
     "output_type": "display_data"
    }
   ],
   "source": [
    "plt.bar(ontime_dep_result.index.tolist(),ontime_dep_result['ontime_per'] , width=0.4, bottom=None)\n",
    "plt.xlabel('Airport')\n",
    "plt.ylabel('% On Time Departures')\n",
    "plt.suptitle('Best Airpot for On-time Departures(%)',fontsize=16)\n",
    "plt.show()"
   ]
  },
  {
   "cell_type": "markdown",
   "metadata": {},
   "source": [
    "# Most Busy Airport"
   ]
  },
  {
   "cell_type": "code",
   "execution_count": 41,
   "metadata": {},
   "outputs": [
    {
     "data": {
      "image/png": "[encoded data removed]",
      "text/plain": [
       "<matplotlib.figure.Figure at 0x20e80e86c50>"
      ]
     },
     "metadata": {},
     "output_type": "display_data"
    }
   ],
   "source": [
    "plt.bar(mydf2.index.tolist(),mydf2['total_flights'] , width=0.35, bottom=None)\n",
    "plt.xlabel('Carrier')\n",
    "plt.ylabel('Total Departures')\n",
    "plt.suptitle('Busiest Airpot',fontsize=16)\n",
    "\n",
    "plt.show()"
   ]
  },
  {
   "cell_type": "markdown",
   "metadata": {},
   "source": [
    "# 3. Aircraft speed analysis"
   ]
  },
  {
   "cell_type": "code",
   "execution_count": 42,
   "metadata": {},
   "outputs": [
    {
     "name": "stdout",
     "output_type": "stream",
     "text": [
      "<class 'pandas.core.frame.DataFrame'>\n",
      "Int64Index: 327346 entries, 0 to 336769\n",
      "Data columns (total 3 columns):\n",
      "tailnum     327346 non-null object\n",
      "air_time    327346 non-null float64\n",
      "distance    327346 non-null int64\n",
      "dtypes: float64(1), int64(1), object(1)\n",
      "memory usage: 10.0+ MB\n"
     ]
    }
   ],
   "source": [
    "#aircraft speed\n",
    "air_speed_df = flight_data.loc[flight_data['air_time'].notnull(),['tailnum','air_time','distance']]\n",
    "air_speed_df.info()"
   ]
  },
  {
   "cell_type": "code",
   "execution_count": 43,
   "metadata": {},
   "outputs": [
    {
     "data": {
      "text/html": [
       "<div>\n",
       "<style scoped>\n",
       "    .dataframe tbody tr th:only-of-type {\n",
       "        vertical-align: middle;\n",
       "    }\n",
       "\n",
       "    .dataframe tbody tr th {\n",
       "        vertical-align: top;\n",
       "    }\n",
       "\n",
       "    .dataframe thead th {\n",
       "        text-align: right;\n",
       "    }\n",
       "</style>\n",
       "<table border=\"1\" class=\"dataframe\">\n",
       "  <thead>\n",
       "    <tr style=\"text-align: right;\">\n",
       "      <th></th>\n",
       "      <th>tailnum</th>\n",
       "      <th>air_time</th>\n",
       "      <th>distance</th>\n",
       "    </tr>\n",
       "  </thead>\n",
       "  <tbody>\n",
       "    <tr>\n",
       "      <th>85216</th>\n",
       "      <td>N3GDAA</td>\n",
       "      <td>208.0</td>\n",
       "      <td>1389</td>\n",
       "    </tr>\n",
       "    <tr>\n",
       "      <th>242259</th>\n",
       "      <td>N371CA</td>\n",
       "      <td>91.0</td>\n",
       "      <td>655</td>\n",
       "    </tr>\n",
       "    <tr>\n",
       "      <th>228538</th>\n",
       "      <td>N11119</td>\n",
       "      <td>152.0</td>\n",
       "      <td>1092</td>\n",
       "    </tr>\n",
       "    <tr>\n",
       "      <th>105927</th>\n",
       "      <td>N273JB</td>\n",
       "      <td>144.0</td>\n",
       "      <td>937</td>\n",
       "    </tr>\n",
       "    <tr>\n",
       "      <th>20641</th>\n",
       "      <td>N819UA</td>\n",
       "      <td>130.0</td>\n",
       "      <td>719</td>\n",
       "    </tr>\n",
       "    <tr>\n",
       "      <th>296390</th>\n",
       "      <td>N39475</td>\n",
       "      <td>194.0</td>\n",
       "      <td>1400</td>\n",
       "    </tr>\n",
       "    <tr>\n",
       "      <th>17955</th>\n",
       "      <td>N828MQ</td>\n",
       "      <td>54.0</td>\n",
       "      <td>213</td>\n",
       "    </tr>\n",
       "  </tbody>\n",
       "</table>\n",
       "</div>"
      ],
      "text/plain": [
       "       tailnum  air_time  distance\n",
       "85216   N3GDAA     208.0      1389\n",
       "242259  N371CA      91.0       655\n",
       "228538  N11119     152.0      1092\n",
       "105927  N273JB     144.0       937\n",
       "20641   N819UA     130.0       719\n",
       "296390  N39475     194.0      1400\n",
       "17955   N828MQ      54.0       213"
      ]
     },
     "execution_count": 43,
     "metadata": {},
     "output_type": "execute_result"
    }
   ],
   "source": [
    "\n",
    "\n",
    "air_speed_df.sample(7)\n",
    "\n"
   ]
  },
  {
   "cell_type": "code",
   "execution_count": 46,
   "metadata": {},
   "outputs": [],
   "source": [
    "#calculate and add speed (miles/hr)\n",
    "air_speed_df = air_speed_df.assign(avg_Speed = lambda x: ((x.distance*60)/x.air_time))"
   ]
  },
  {
   "cell_type": "code",
   "execution_count": 47,
   "metadata": {},
   "outputs": [
    {
     "data": {
      "text/plain": [
       "tailnum\n",
       "D942DN    381.463714\n",
       "N0EGMQ    390.577378\n",
       "N10156    385.115125\n",
       "N102UW    393.785127\n",
       "N103US    387.943443\n",
       "Name: avg_Speed, dtype: float64"
      ]
     },
     "execution_count": 47,
     "metadata": {},
     "output_type": "execute_result"
    }
   ],
   "source": [
    "mean_air_speed = air_speed_df.groupby('tailnum')['avg_Speed'].mean()\n",
    "mean_air_speed.head()"
   ]
  },
  {
   "cell_type": "code",
   "execution_count": 48,
   "metadata": {},
   "outputs": [
    {
     "name": "stdout",
     "output_type": "stream",
     "text": [
      "Aircraft with Highest Speed:  N228UA Speed (miles/hour):  500.81632653061223\n",
      "Total Number of Aircrafts Compared:  4037\n"
     ]
    }
   ],
   "source": [
    "#aircraft with Highest speed\n",
    "print (\"Aircraft with Highest Speed: \",mean_air_speed.idxmax(), \"Speed (miles/hour): \",mean_air_speed.max())\n",
    "print (\"Total Number of Aircrafts Compared: \", mean_air_speed.size)"
   ]
  },
  {
   "cell_type": "code",
   "execution_count": 52,
   "metadata": {},
   "outputs": [
    {
     "data": {
      "image/png": "[encoded data removed]",
      "text/plain": [
       "<matplotlib.figure.Figure at 0x20e8104ab00>"
      ]
     },
     "metadata": {},
     "output_type": "display_data"
    }
   ],
   "source": [
    "#histogram of speed\n",
    "plt.hist(mean_air_speed, bins=7)\n",
    "plt.xlabel('Speed (miles/hr)')\n",
    "plt.ylabel('Number of Aircrafts')\n",
    "plt.show()"
   ]
  },
  {
   "cell_type": "code",
   "execution_count": 53,
   "metadata": {},
   "outputs": [],
   "source": [
    "#Carrier owning fastest aircraft\n",
    "fastest_carrier = flight_data.loc[flight_data['tailnum']==(\"N228UA\"),['carrier','tailnum','flight']]"
   ]
  },
  {
   "cell_type": "code",
   "execution_count": 54,
   "metadata": {},
   "outputs": [
    {
     "data": {
      "text/html": [
       "<div>\n",
       "<style scoped>\n",
       "    .dataframe tbody tr th:only-of-type {\n",
       "        vertical-align: middle;\n",
       "    }\n",
       "\n",
       "    .dataframe tbody tr th {\n",
       "        vertical-align: top;\n",
       "    }\n",
       "\n",
       "    .dataframe thead th {\n",
       "        text-align: right;\n",
       "    }\n",
       "</style>\n",
       "<table border=\"1\" class=\"dataframe\">\n",
       "  <thead>\n",
       "    <tr style=\"text-align: right;\">\n",
       "      <th></th>\n",
       "      <th>carrier</th>\n",
       "      <th>tailnum</th>\n",
       "      <th>flight</th>\n",
       "    </tr>\n",
       "  </thead>\n",
       "  <tbody>\n",
       "    <tr>\n",
       "      <th>301176</th>\n",
       "      <td>UA</td>\n",
       "      <td>N228UA</td>\n",
       "      <td>755</td>\n",
       "    </tr>\n",
       "  </tbody>\n",
       "</table>\n",
       "</div>"
      ],
      "text/plain": [
       "       carrier tailnum  flight\n",
       "301176      UA  N228UA     755"
      ]
     },
     "execution_count": 54,
     "metadata": {},
     "output_type": "execute_result"
    }
   ],
   "source": [
    "fastest_carrier"
   ]
  },
  {
   "cell_type": "markdown",
   "metadata": {},
   "source": [
    "# 4. On time arrival % analysis."
   ]
  },
  {
   "cell_type": "code",
   "execution_count": 55,
   "metadata": {},
   "outputs": [
    {
     "name": "stdout",
     "output_type": "stream",
     "text": [
      "<class 'pandas.core.frame.DataFrame'>\n",
      "Int64Index: 327346 entries, 0 to 336769\n",
      "Data columns (total 3 columns):\n",
      "flight       327346 non-null int64\n",
      "arr_delay    327346 non-null float64\n",
      "carrier      327346 non-null object\n",
      "dtypes: float64(1), int64(1), object(1)\n",
      "memory usage: 10.0+ MB\n",
      "<class 'pandas.core.frame.DataFrame'>\n",
      "Int64Index: 5409 entries, 35 to 336595\n",
      "Data columns (total 3 columns):\n",
      "flight       5409 non-null int64\n",
      "arr_delay    5409 non-null float64\n",
      "carrier      5409 non-null object\n",
      "dtypes: float64(1), int64(1), object(1)\n",
      "memory usage: 169.0+ KB\n"
     ]
    }
   ],
   "source": [
    "#ontime arrival flight wise\n",
    "arrival_df = flight_data.loc[flight_data['arr_delay'].notnull(),['flight','arr_delay','carrier']]\n",
    "arrival_df.info()\n",
    "ontime_arrival_df = flight_data.loc[flight_data['arr_delay'].eq(0),['flight','arr_delay','carrier']]\n",
    "ontime_arrival_df.info()"
   ]
  },
  {
   "cell_type": "code",
   "execution_count": 59,
   "metadata": {},
   "outputs": [
    {
     "name": "stdout",
     "output_type": "stream",
     "text": [
      "total flights:  3835\n"
     ]
    },
    {
     "data": {
      "text/plain": [
       "15     956\n",
       "27     886\n",
       "181    875\n",
       "301    852\n",
       "161    780\n",
       "Name: flight, dtype: int64"
      ]
     },
     "execution_count": 59,
     "metadata": {},
     "output_type": "execute_result"
    }
   ],
   "source": [
    "flights = arrival_df.flight.unique()\n",
    "print(\"total flights: \" , flights.size)\n",
    "\n",
    "#each flight occurance \n",
    "flights_count = arrival_df['flight'].value_counts()\n",
    "flights_count.head()"
   ]
  },
  {
   "cell_type": "code",
   "execution_count": 57,
   "metadata": {},
   "outputs": [
    {
     "data": {
      "text/plain": [
       "15     22\n",
       "575    19\n",
       "269    18\n",
       "3      16\n",
       "219    16\n",
       "Name: flight, dtype: int64"
      ]
     },
     "execution_count": 57,
     "metadata": {},
     "output_type": "execute_result"
    }
   ],
   "source": [
    "ontime_flights_count = ontime_arrival_df['flight'].value_counts()\n",
    "ontime_flights_count.head()"
   ]
  },
  {
   "cell_type": "code",
   "execution_count": 60,
   "metadata": {},
   "outputs": [],
   "source": [
    "mydf = pd.DataFrame(data=ontime_flights_count)\n",
    "mydf2 = pd.DataFrame(data=flights_count)"
   ]
  },
  {
   "cell_type": "code",
   "execution_count": 61,
   "metadata": {},
   "outputs": [],
   "source": [
    "#change column name for clarity\n",
    "mydf.rename(columns={'flight': 'ontime_flights'}, inplace=True)\n",
    "mydf2.rename(columns={'flight': 'total_flights'}, inplace=True)"
   ]
  },
  {
   "cell_type": "code",
   "execution_count": 62,
   "metadata": {},
   "outputs": [
    {
     "name": "stdout",
     "output_type": "stream",
     "text": [
      "<class 'pandas.core.frame.DataFrame'>\n",
      "Int64Index: 3835 entries, 1 to 8500\n",
      "Data columns (total 2 columns):\n",
      "ontime_flights    1838 non-null float64\n",
      "total_flights     3835 non-null int64\n",
      "dtypes: float64(1), int64(1)\n",
      "memory usage: 89.9 KB\n"
     ]
    }
   ],
   "source": [
    "#join dfs for final result\n",
    "ontime_result = pd.concat([mydf, mydf2], axis=1)\n",
    "ontime_result.info()"
   ]
  },
  {
   "cell_type": "code",
   "execution_count": 63,
   "metadata": {},
   "outputs": [],
   "source": [
    "#set ontime to 0 for NaNs (missing dep_delay)\n",
    "idx = pd.IndexSlice\t\n",
    "ontime_result.update(ontime_result.loc[idx[:],idx['ontime_flights']].fillna(value=0))"
   ]
  },
  {
   "cell_type": "code",
   "execution_count": 64,
   "metadata": {},
   "outputs": [
    {
     "data": {
      "text/html": [
       "<div>\n",
       "<style scoped>\n",
       "    .dataframe tbody tr th:only-of-type {\n",
       "        vertical-align: middle;\n",
       "    }\n",
       "\n",
       "    .dataframe tbody tr th {\n",
       "        vertical-align: top;\n",
       "    }\n",
       "\n",
       "    .dataframe thead th {\n",
       "        text-align: right;\n",
       "    }\n",
       "</style>\n",
       "<table border=\"1\" class=\"dataframe\">\n",
       "  <thead>\n",
       "    <tr style=\"text-align: right;\">\n",
       "      <th></th>\n",
       "      <th>ontime_flights</th>\n",
       "      <th>total_flights</th>\n",
       "    </tr>\n",
       "  </thead>\n",
       "  <tbody>\n",
       "    <tr>\n",
       "      <th>6168</th>\n",
       "      <td>0.0</td>\n",
       "      <td>2</td>\n",
       "    </tr>\n",
       "    <tr>\n",
       "      <th>6177</th>\n",
       "      <td>5.0</td>\n",
       "      <td>160</td>\n",
       "    </tr>\n",
       "    <tr>\n",
       "      <th>6180</th>\n",
       "      <td>0.0</td>\n",
       "      <td>6</td>\n",
       "    </tr>\n",
       "    <tr>\n",
       "      <th>6181</th>\n",
       "      <td>1.0</td>\n",
       "      <td>80</td>\n",
       "    </tr>\n",
       "    <tr>\n",
       "      <th>8500</th>\n",
       "      <td>0.0</td>\n",
       "      <td>1</td>\n",
       "    </tr>\n",
       "  </tbody>\n",
       "</table>\n",
       "</div>"
      ],
      "text/plain": [
       "      ontime_flights  total_flights\n",
       "6168             0.0              2\n",
       "6177             5.0            160\n",
       "6180             0.0              6\n",
       "6181             1.0             80\n",
       "8500             0.0              1"
      ]
     },
     "execution_count": 64,
     "metadata": {},
     "output_type": "execute_result"
    }
   ],
   "source": [
    "ontime_result.tail()"
   ]
  },
  {
   "cell_type": "code",
   "execution_count": 65,
   "metadata": {},
   "outputs": [
    {
     "data": {
      "text/html": [
       "<div>\n",
       "<style scoped>\n",
       "    .dataframe tbody tr th:only-of-type {\n",
       "        vertical-align: middle;\n",
       "    }\n",
       "\n",
       "    .dataframe tbody tr th {\n",
       "        vertical-align: top;\n",
       "    }\n",
       "\n",
       "    .dataframe thead th {\n",
       "        text-align: right;\n",
       "    }\n",
       "</style>\n",
       "<table border=\"1\" class=\"dataframe\">\n",
       "  <thead>\n",
       "    <tr style=\"text-align: right;\">\n",
       "      <th></th>\n",
       "      <th>ontime_flights</th>\n",
       "      <th>total_flights</th>\n",
       "      <th>ontime_per</th>\n",
       "    </tr>\n",
       "  </thead>\n",
       "  <tbody>\n",
       "    <tr>\n",
       "      <th>6168</th>\n",
       "      <td>0.0</td>\n",
       "      <td>2</td>\n",
       "      <td>0.000</td>\n",
       "    </tr>\n",
       "    <tr>\n",
       "      <th>6177</th>\n",
       "      <td>5.0</td>\n",
       "      <td>160</td>\n",
       "      <td>3.125</td>\n",
       "    </tr>\n",
       "    <tr>\n",
       "      <th>6180</th>\n",
       "      <td>0.0</td>\n",
       "      <td>6</td>\n",
       "      <td>0.000</td>\n",
       "    </tr>\n",
       "    <tr>\n",
       "      <th>6181</th>\n",
       "      <td>1.0</td>\n",
       "      <td>80</td>\n",
       "      <td>1.250</td>\n",
       "    </tr>\n",
       "    <tr>\n",
       "      <th>8500</th>\n",
       "      <td>0.0</td>\n",
       "      <td>1</td>\n",
       "      <td>0.000</td>\n",
       "    </tr>\n",
       "  </tbody>\n",
       "</table>\n",
       "</div>"
      ],
      "text/plain": [
       "      ontime_flights  total_flights  ontime_per\n",
       "6168             0.0              2       0.000\n",
       "6177             5.0            160       3.125\n",
       "6180             0.0              6       0.000\n",
       "6181             1.0             80       1.250\n",
       "8500             0.0              1       0.000"
      ]
     },
     "execution_count": 65,
     "metadata": {},
     "output_type": "execute_result"
    }
   ],
   "source": [
    "#calculate % ontime arrival \n",
    "ontime_result = ontime_result.assign(ontime_per = lambda x: ((x.ontime_flights*100)/x.total_flights))\n",
    "ontime_result.tail()"
   ]
  },
  {
   "cell_type": "markdown",
   "metadata": {},
   "source": [
    "# **flight with best ontime %"
   ]
  },
  {
   "cell_type": "code",
   "execution_count": 66,
   "metadata": {},
   "outputs": [
    {
     "name": "stdout",
     "output_type": "stream",
     "text": [
      "100.0\n"
     ]
    },
    {
     "data": {
      "text/plain": [
       "748"
      ]
     },
     "execution_count": 66,
     "metadata": {},
     "output_type": "execute_result"
    }
   ],
   "source": [
    "print(ontime_result['ontime_per'].max())\n",
    "ontime_result['ontime_per'].idxmax()"
   ]
  },
  {
   "cell_type": "code",
   "execution_count": 67,
   "metadata": {},
   "outputs": [
    {
     "data": {
      "text/plain": [
       "array([697,  51, 628, 391, 324, 206, 236, 234, 152,  61, 535, 127, 956,\n",
       "        95, 326,   8, 438, 224, 567, 174, 538, 167,  94, 886,   5, 435,\n",
       "       166, 317, 104, 338, 154, 286, 156,  10,  41,  81,  60, 155, 113,\n",
       "       133, 169, 125,   2,   6,  58, 384,  20, 151, 131, 478, 259, 351,\n",
       "        14, 287, 124,   4, 279, 139, 189,   9,  55, 161,  43,  15, 631,\n",
       "       117, 475, 492,   1, 184, 408, 336,   3, 105,  16, 109, 280,  17,\n",
       "        67, 270, 190, 195, 528, 194, 527, 316,  36, 477, 168,  38, 534,\n",
       "        31, 393, 153, 119, 377,  30, 170, 497,  76,  34,  68,  40, 311,\n",
       "        13,  54, 780,  11, 298, 532, 180,  42, 254, 130, 135, 328, 524,\n",
       "       875, 607,  29, 487, 122, 271, 186, 142,  99, 204, 432, 126,  19,\n",
       "        53,  25, 345, 261, 147, 192,  22,  45, 182, 212,  12,  35, 245,\n",
       "       253,  93,  18,   7,  27,  28,  86, 285,  73,  92,  50, 429,  89,\n",
       "        84,  48, 141, 158, 525, 112,  26, 218,  49,  39, 587, 229,  52,\n",
       "       101,  65,  21,  79,  23, 143,  71, 290, 852, 680, 545, 238, 303,\n",
       "        63, 428, 255, 296, 178, 121, 150,  37, 246, 500, 620, 549,  44,\n",
       "       412, 322,  46, 526, 472, 649, 281, 331, 120, 221, 694, 310,  62,\n",
       "       675, 203, 267, 228, 231,  98,  64, 460,  80, 193,  24,  66, 349,\n",
       "       128, 575, 330, 181, 474, 576, 627, 600, 256, 202, 278,  72, 148,\n",
       "       482,  85,  57,  69, 114, 514, 115, 171, 210, 100,  91, 467,  88,\n",
       "        75,  33, 102, 329, 302, 529,  82,  83, 375, 110, 350, 374, 461,\n",
       "       313, 160, 108, 213, 406, 433,  47, 321, 118, 179, 344, 305, 116,\n",
       "       636,  32, 164, 200, 249,  96, 273, 314, 297, 275, 312, 223, 266,\n",
       "       548, 220, 244, 232,  87, 209, 756,  56, 353, 185, 681, 225, 339,\n",
       "       440, 146, 596, 364, 308, 134, 319, 138, 610, 370, 352, 265, 466,\n",
       "       136, 216, 366, 282, 140, 235, 348, 205, 283, 315,  70, 263, 199,\n",
       "       307, 217, 363, 198, 106, 159, 226,  77, 463,  74, 230,  59, 211,\n",
       "       201, 299, 354, 242, 162, 268, 709, 163, 248, 149, 289, 197, 165,\n",
       "       107, 103, 494, 177, 288, 251, 111, 342, 368, 301, 227, 490, 356,\n",
       "       417, 530,  97, 132, 252,  78, 129, 581, 455, 176, 459, 188, 157,\n",
       "       208, 389, 247, 196, 260, 239, 145, 379, 284, 347, 369,  90, 340,\n",
       "       241, 219, 237, 571, 355, 183, 187, 517, 426, 358, 300, 367, 318,\n",
       "       422, 441, 215, 561, 269, 357, 144, 320, 233, 172, 609, 272, 123,\n",
       "       360, 343, 385, 450, 191, 277, 137, 262, 173, 294, 327, 291, 175,\n",
       "       264, 257, 404, 207, 454, 222, 243, 397, 413, 276, 240, 341],\n",
       "      dtype=int64)"
      ]
     },
     "execution_count": 67,
     "metadata": {},
     "output_type": "execute_result"
    }
   ],
   "source": [
    "ontime_result.total_flights.unique()"
   ]
  },
  {
   "cell_type": "markdown",
   "metadata": {},
   "source": [
    "# find top 10 Flights with best % ontime arrival"
   ]
  },
  {
   "cell_type": "code",
   "execution_count": 69,
   "metadata": {},
   "outputs": [
    {
     "data": {
      "text/html": [
       "<div>\n",
       "<style scoped>\n",
       "    .dataframe tbody tr th:only-of-type {\n",
       "        vertical-align: middle;\n",
       "    }\n",
       "\n",
       "    .dataframe tbody tr th {\n",
       "        vertical-align: top;\n",
       "    }\n",
       "\n",
       "    .dataframe thead th {\n",
       "        text-align: right;\n",
       "    }\n",
       "</style>\n",
       "<table border=\"1\" class=\"dataframe\">\n",
       "  <thead>\n",
       "    <tr style=\"text-align: right;\">\n",
       "      <th></th>\n",
       "      <th>ontime_flights</th>\n",
       "      <th>total_flights</th>\n",
       "      <th>ontime_per</th>\n",
       "    </tr>\n",
       "  </thead>\n",
       "  <tbody>\n",
       "    <tr>\n",
       "      <th>1</th>\n",
       "      <td>10.0</td>\n",
       "      <td>697</td>\n",
       "      <td>1.434720</td>\n",
       "    </tr>\n",
       "    <tr>\n",
       "      <th>2</th>\n",
       "      <td>2.0</td>\n",
       "      <td>51</td>\n",
       "      <td>3.921569</td>\n",
       "    </tr>\n",
       "    <tr>\n",
       "      <th>3</th>\n",
       "      <td>16.0</td>\n",
       "      <td>628</td>\n",
       "      <td>2.547771</td>\n",
       "    </tr>\n",
       "    <tr>\n",
       "      <th>4</th>\n",
       "      <td>8.0</td>\n",
       "      <td>391</td>\n",
       "      <td>2.046036</td>\n",
       "    </tr>\n",
       "    <tr>\n",
       "      <th>5</th>\n",
       "      <td>2.0</td>\n",
       "      <td>324</td>\n",
       "      <td>0.617284</td>\n",
       "    </tr>\n",
       "    <tr>\n",
       "      <th>6</th>\n",
       "      <td>1.0</td>\n",
       "      <td>206</td>\n",
       "      <td>0.485437</td>\n",
       "    </tr>\n",
       "    <tr>\n",
       "      <th>7</th>\n",
       "      <td>3.0</td>\n",
       "      <td>236</td>\n",
       "      <td>1.271186</td>\n",
       "    </tr>\n",
       "    <tr>\n",
       "      <th>8</th>\n",
       "      <td>4.0</td>\n",
       "      <td>234</td>\n",
       "      <td>1.709402</td>\n",
       "    </tr>\n",
       "    <tr>\n",
       "      <th>9</th>\n",
       "      <td>3.0</td>\n",
       "      <td>152</td>\n",
       "      <td>1.973684</td>\n",
       "    </tr>\n",
       "    <tr>\n",
       "      <th>10</th>\n",
       "      <td>1.0</td>\n",
       "      <td>61</td>\n",
       "      <td>1.639344</td>\n",
       "    </tr>\n",
       "  </tbody>\n",
       "</table>\n",
       "</div>"
      ],
      "text/plain": [
       "    ontime_flights  total_flights  ontime_per\n",
       "1             10.0            697    1.434720\n",
       "2              2.0             51    3.921569\n",
       "3             16.0            628    2.547771\n",
       "4              8.0            391    2.046036\n",
       "5              2.0            324    0.617284\n",
       "6              1.0            206    0.485437\n",
       "7              3.0            236    1.271186\n",
       "8              4.0            234    1.709402\n",
       "9              3.0            152    1.973684\n",
       "10             1.0             61    1.639344"
      ]
     },
     "execution_count": 69,
     "metadata": {},
     "output_type": "execute_result"
    }
   ],
   "source": [
    "#Ignore the flights with less than 5 total flights ( not significant )\n",
    "best_ontime_arrival = ontime_result.loc[ontime_result['total_flights'] >= 5]\n",
    "best_ontime_arrival.head(10)"
   ]
  },
  {
   "cell_type": "code",
   "execution_count": 70,
   "metadata": {},
   "outputs": [
    {
     "name": "stdout",
     "output_type": "stream",
     "text": [
      "Flight with Maximum # of ontime flights\n",
      "ontime_flights     22.000000\n",
      "total_flights     956.000000\n",
      "ontime_per          2.301255\n",
      "Name: 15, dtype: float64\n"
     ]
    }
   ],
   "source": [
    "#flight with Maximum number of ontime flights\n",
    "\n",
    "print(\"Flight with Maximum # of ontime flights\")\n",
    "print ( best_ontime_arrival.loc[best_ontime_arrival['ontime_flights'].idxmax()])"
   ]
  },
  {
   "cell_type": "code",
   "execution_count": 71,
   "metadata": {},
   "outputs": [
    {
     "data": {
      "text/html": [
       "<div>\n",
       "<style scoped>\n",
       "    .dataframe tbody tr th:only-of-type {\n",
       "        vertical-align: middle;\n",
       "    }\n",
       "\n",
       "    .dataframe tbody tr th {\n",
       "        vertical-align: top;\n",
       "    }\n",
       "\n",
       "    .dataframe thead th {\n",
       "        text-align: right;\n",
       "    }\n",
       "</style>\n",
       "<table border=\"1\" class=\"dataframe\">\n",
       "  <thead>\n",
       "    <tr style=\"text-align: right;\">\n",
       "      <th></th>\n",
       "      <th>ontime_flights</th>\n",
       "      <th>total_flights</th>\n",
       "      <th>ontime_per</th>\n",
       "    </tr>\n",
       "  </thead>\n",
       "  <tbody>\n",
       "    <tr>\n",
       "      <th>2153</th>\n",
       "      <td>2.0</td>\n",
       "      <td>7</td>\n",
       "      <td>28.571429</td>\n",
       "    </tr>\n",
       "    <tr>\n",
       "      <th>4627</th>\n",
       "      <td>2.0</td>\n",
       "      <td>9</td>\n",
       "      <td>22.222222</td>\n",
       "    </tr>\n",
       "    <tr>\n",
       "      <th>4306</th>\n",
       "      <td>3.0</td>\n",
       "      <td>15</td>\n",
       "      <td>20.000000</td>\n",
       "    </tr>\n",
       "    <tr>\n",
       "      <th>68</th>\n",
       "      <td>1.0</td>\n",
       "      <td>5</td>\n",
       "      <td>20.000000</td>\n",
       "    </tr>\n",
       "    <tr>\n",
       "      <th>1449</th>\n",
       "      <td>1.0</td>\n",
       "      <td>5</td>\n",
       "      <td>20.000000</td>\n",
       "    </tr>\n",
       "    <tr>\n",
       "      <th>2339</th>\n",
       "      <td>1.0</td>\n",
       "      <td>5</td>\n",
       "      <td>20.000000</td>\n",
       "    </tr>\n",
       "    <tr>\n",
       "      <th>2381</th>\n",
       "      <td>1.0</td>\n",
       "      <td>5</td>\n",
       "      <td>20.000000</td>\n",
       "    </tr>\n",
       "    <tr>\n",
       "      <th>3639</th>\n",
       "      <td>1.0</td>\n",
       "      <td>5</td>\n",
       "      <td>20.000000</td>\n",
       "    </tr>\n",
       "    <tr>\n",
       "      <th>4616</th>\n",
       "      <td>1.0</td>\n",
       "      <td>5</td>\n",
       "      <td>20.000000</td>\n",
       "    </tr>\n",
       "    <tr>\n",
       "      <th>5035</th>\n",
       "      <td>1.0</td>\n",
       "      <td>5</td>\n",
       "      <td>20.000000</td>\n",
       "    </tr>\n",
       "  </tbody>\n",
       "</table>\n",
       "</div>"
      ],
      "text/plain": [
       "      ontime_flights  total_flights  ontime_per\n",
       "2153             2.0              7   28.571429\n",
       "4627             2.0              9   22.222222\n",
       "4306             3.0             15   20.000000\n",
       "68               1.0              5   20.000000\n",
       "1449             1.0              5   20.000000\n",
       "2339             1.0              5   20.000000\n",
       "2381             1.0              5   20.000000\n",
       "3639             1.0              5   20.000000\n",
       "4616             1.0              5   20.000000\n",
       "5035             1.0              5   20.000000"
      ]
     },
     "execution_count": 71,
     "metadata": {},
     "output_type": "execute_result"
    }
   ],
   "source": [
    "top10 = best_ontime_arrival.sort_values(by=['ontime_per','total_flights'],ascending=False).head(10)\n",
    "top10"
   ]
  },
  {
   "cell_type": "code",
   "execution_count": 74,
   "metadata": {},
   "outputs": [
    {
     "data": {
      "image/png": "[encoded data removed]",
      "text/plain": [
       "<matplotlib.figure.Figure at 0x20e81308908>"
      ]
     },
     "metadata": {},
     "output_type": "display_data"
    }
   ],
   "source": [
    "#plot top 10\n",
    "fig, ax = plt.subplots()\n",
    "rects1 = ax.bar(top10.index.astype(str).tolist(),top10['ontime_per'], 0.5, color='lightgreen')\n",
    "\n",
    "# add some text for labels, title \n",
    "ax.set_ylabel('<-- % Ontime Arrivals -->')\n",
    "ax.set_xlabel('<-- Flight Number -->')\n",
    "ax.set_title(' **** Top 10 Ontime Flights **** ',fontsize=16)\n",
    "\n",
    "def autolabel(rects):\n",
    "    \"\"\"\n",
    "    Attach a text label above each bar displaying its height\n",
    "    \"\"\"\n",
    "    for rect in rects:\n",
    "        height = rect.get_height()\n",
    "        ax.text(rect.get_x() + rect.get_width()/2., 1.005*height, '%d' % int(height), ha='center', va='bottom')\n",
    "\n",
    "autolabel(rects1)\n",
    "plt.show()"
   ]
  },
  {
   "cell_type": "markdown",
   "metadata": {},
   "source": [
    "# 5. Maximum number of flights headed to some particular destination"
   ]
  },
  {
   "cell_type": "code",
   "execution_count": 81,
   "metadata": {},
   "outputs": [
    {
     "data": {
      "text/plain": [
       "ORD    17283\n",
       "ATL    17215\n",
       "LAX    16174\n",
       "BOS    15508\n",
       "MCO    14082\n",
       "Name: dest, dtype: int64"
      ]
     },
     "execution_count": 81,
     "metadata": {},
     "output_type": "execute_result"
    }
   ],
   "source": [
    "dest_fligh_count = flight_data['dest'].value_counts()\n",
    "\n",
    "dest_fligh_count.head()"
   ]
  },
  {
   "cell_type": "code",
   "execution_count": 80,
   "metadata": {},
   "outputs": [
    {
     "data": {
      "text/plain": [
       "336776"
      ]
     },
     "execution_count": 80,
     "metadata": {},
     "output_type": "execute_result"
    }
   ],
   "source": [
    "dest_fligh_count"
   ]
  },
  {
   "cell_type": "code",
   "execution_count": 82,
   "metadata": {},
   "outputs": [
    {
     "name": "stdout",
     "output_type": "stream",
     "text": [
      "Destination with Maximum flights:  ORD Total Flights to this Dest:  17283\n"
     ]
    }
   ],
   "source": [
    "print(\"Destination with Maximum flights: \",dest_fligh_count.idxmax(),\"Total Flights to this Dest: \", dest_fligh_count.max())"
   ]
  },
  {
   "cell_type": "code",
   "execution_count": 83,
   "metadata": {},
   "outputs": [
    {
     "data": {
      "text/plain": [
       "ORD    17283\n",
       "ATL    17215\n",
       "LAX    16174\n",
       "BOS    15508\n",
       "MCO    14082\n",
       "Name: dest, dtype: int64"
      ]
     },
     "execution_count": 83,
     "metadata": {},
     "output_type": "execute_result"
    }
   ],
   "source": [
    "top5 = dest_fligh_count.sort_values(ascending=False).iloc[:5]\n",
    "top5"
   ]
  },
  {
   "cell_type": "code",
   "execution_count": 86,
   "metadata": {},
   "outputs": [
    {
     "data": {
      "image/png": "[encoded data removed]",
      "text/plain": [
       "<matplotlib.figure.Figure at 0x20e813adf98>"
      ]
     },
     "metadata": {},
     "output_type": "display_data"
    }
   ],
   "source": [
    "fig, ax = plt.subplots()\n",
    "rects1 = ax.bar(top5.index,top5.values, 0.35, color='green')\n",
    "\n",
    "# add some text for labels, title \n",
    "ax.set_ylabel('<-- Total Flights -->')\n",
    "ax.set_xlabel('<-- Destinations -->')\n",
    "ax.set_title(' **** Top 5 Destinations **** ',fontsize=16)\n",
    "\n",
    "\n",
    "plt.show()"
   ]
  },
  {
   "cell_type": "markdown",
   "metadata": {},
   "source": [
    "# ----END----"
   ]
  },
  {
   "cell_type": "code",
   "execution_count": null,
   "metadata": {},
   "outputs": [],
   "source": []
  },
  {
   "cell_type": "code",
   "execution_count": null,
   "metadata": {},
   "outputs": [],
   "source": []
  },
  {
   "cell_type": "code",
   "execution_count": null,
   "metadata": {},
   "outputs": [],
   "source": []
  },
  {
   "cell_type": "code",
   "execution_count": null,
   "metadata": {},
   "outputs": [],
   "source": []
  }
 ],
 "metadata": {
  "kernelspec": {
   "display_name": "Python 3",
   "language": "python",
   "name": "python3"
  },
  "language_info": {
   "codemirror_mode": {
    "name": "ipython",
    "version": 3
   },
   "file_extension": ".py",
   "mimetype": "text/x-python",
   "name": "python",
   "nbconvert_exporter": "python",
   "pygments_lexer": "ipython3",
   "version": "3.6.4"
  }
 },
 "nbformat": 4,
 "nbformat_minor": 2
}
